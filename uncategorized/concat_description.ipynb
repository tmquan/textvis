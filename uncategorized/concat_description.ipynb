{
 "cells": [
  {
   "cell_type": "code",
   "execution_count": 5,
   "metadata": {},
   "outputs": [],
   "source": [
    "import pandas as pd\n",
    "import numpy as np"
   ]
  },
  {
   "cell_type": "code",
   "execution_count": 7,
   "metadata": {},
   "outputs": [],
   "source": [
    "# Define constants\n",
    "FILENAME = '../../data/clinicaltrials.gov/clinicaltrials_dot_gov_20230221_153151.csv'\n",
    "\n",
    "# Read the CSV file into a pandas dataframe\n",
    "df = pd.read_csv(FILENAME, index_col='nct_id')\n",
    "\n",
    "# Replace empty strings with NaN values\n",
    "df.replace('', np.nan, inplace=True)\n",
    "\n",
    "# Fill NaN values with 'None'\n",
    "df.fillna('None', inplace=True)\n",
    "\n",
    "# Concatenate all columns into a new column 'concat'\n",
    "df['concat'] = df.apply(lambda row: '. '.join(map(str, row)), axis=1)\n",
    "\n",
    "# Write the resulting dataframe to a new CSV file\n",
    "df.to_csv(FILENAME.replace('.csv', '_concat.csv'), columns=['concat'])"
   ]
  },
  {
   "cell_type": "code",
   "execution_count": 8,
   "metadata": {},
   "outputs": [
    {
     "name": "stdout",
     "output_type": "stream",
     "text": [
      "<class 'pandas.core.frame.DataFrame'>\n",
      "Index: 1246 entries, NCT00001626 to NCT05662904\n",
      "Data columns (total 20 columns):\n",
      " #   Column                Non-Null Count  Dtype \n",
      "---  ------                --------------  ----- \n",
      " 0   brief_title           1246 non-null   object\n",
      " 1   official_title        1246 non-null   object\n",
      " 2   brief_description     1246 non-null   object\n",
      " 3   detailed_description  1246 non-null   object\n",
      " 4   study_type            1246 non-null   object\n",
      " 5   population            1246 non-null   object\n",
      " 6   condition_mesh        1246 non-null   object\n",
      " 7   intervention_mesh     1246 non-null   object\n",
      " 8   keywords              1246 non-null   object\n",
      " 9   overall_status        1246 non-null   object\n",
      " 10  criteria              1246 non-null   object\n",
      " 11  gender                1246 non-null   object\n",
      " 12  minimum_age           1246 non-null   object\n",
      " 13  maximum_age           1246 non-null   object\n",
      " 14  healthy_volunteers    1246 non-null   object\n",
      " 15  locations             1246 non-null   object\n",
      " 16  phase                 1246 non-null   object\n",
      " 17  sponsors              1246 non-null   object\n",
      " 18  officials             1246 non-null   object\n",
      " 19  concat                1246 non-null   object\n",
      "dtypes: object(20)\n",
      "memory usage: 204.4+ KB\n"
     ]
    }
   ],
   "source": [
    "df.info()"
   ]
  },
  {
   "cell_type": "code",
   "execution_count": null,
   "metadata": {},
   "outputs": [],
   "source": []
  }
 ],
 "metadata": {
  "kernelspec": {
   "display_name": "pytorch3d",
   "language": "python",
   "name": "python3"
  },
  "language_info": {
   "codemirror_mode": {
    "name": "ipython",
    "version": 3
   },
   "file_extension": ".py",
   "mimetype": "text/x-python",
   "name": "python",
   "nbconvert_exporter": "python",
   "pygments_lexer": "ipython3",
   "version": "3.8.13"
  },
  "orig_nbformat": 4,
  "vscode": {
   "interpreter": {
    "hash": "3f893498b470f27fd1a40153e64189396c8dde5539c6d3cde04ad318cba3db14"
   }
  }
 },
 "nbformat": 4,
 "nbformat_minor": 2
}
