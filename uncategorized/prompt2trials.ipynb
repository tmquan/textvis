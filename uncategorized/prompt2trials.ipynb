{
 "cells": [
  {
   "cell_type": "code",
   "execution_count": 1,
   "metadata": {},
   "outputs": [
    {
     "name": "stdout",
     "output_type": "stream",
     "text": [
      "\u001b[33mWARNING: Ignoring invalid distribution -andas (/data/qtran/anaconda3/envs/pytorch3d/lib/python3.8/site-packages)\u001b[0m\u001b[33m\n",
      "\u001b[0m\u001b[33mWARNING: Ignoring invalid distribution -andas (/data/qtran/anaconda3/envs/pytorch3d/lib/python3.8/site-packages)\u001b[0m\u001b[33m\n",
      "\u001b[0mRequirement already satisfied: langchain in /data/qtran/anaconda3/envs/pytorch3d/lib/python3.8/site-packages (0.0.101)\n",
      "Requirement already satisfied: aiohttp<4.0.0,>=3.8.3 in /data/qtran/anaconda3/envs/pytorch3d/lib/python3.8/site-packages (from langchain) (3.8.4)\n",
      "Requirement already satisfied: SQLAlchemy<2,>=1 in /data/qtran/anaconda3/envs/pytorch3d/lib/python3.8/site-packages (from langchain) (1.4.37)\n",
      "Requirement already satisfied: requests<3,>=2 in /data/qtran/anaconda3/envs/pytorch3d/lib/python3.8/site-packages (from langchain) (2.28.2)\n",
      "Requirement already satisfied: numpy<2,>=1 in /data/qtran/anaconda3/envs/pytorch3d/lib/python3.8/site-packages (from langchain) (1.23.5)\n",
      "Requirement already satisfied: pydantic<2,>=1 in /data/qtran/anaconda3/envs/pytorch3d/lib/python3.8/site-packages (from langchain) (1.9.1)\n",
      "Requirement already satisfied: dataclasses-json<0.6.0,>=0.5.7 in /data/qtran/anaconda3/envs/pytorch3d/lib/python3.8/site-packages (from langchain) (0.5.7)\n",
      "Requirement already satisfied: tenacity<9.0.0,>=8.1.0 in /data/qtran/anaconda3/envs/pytorch3d/lib/python3.8/site-packages (from langchain) (8.1.0)\n",
      "Requirement already satisfied: PyYAML<7,>=6 in /data/qtran/anaconda3/envs/pytorch3d/lib/python3.8/site-packages (from langchain) (6.0)\n",
      "Requirement already satisfied: attrs>=17.3.0 in /data/qtran/anaconda3/envs/pytorch3d/lib/python3.8/site-packages (from aiohttp<4.0.0,>=3.8.3->langchain) (21.4.0)\n",
      "Requirement already satisfied: aiosignal>=1.1.2 in /data/qtran/anaconda3/envs/pytorch3d/lib/python3.8/site-packages (from aiohttp<4.0.0,>=3.8.3->langchain) (1.2.0)\n",
      "Requirement already satisfied: multidict<7.0,>=4.5 in /data/qtran/anaconda3/envs/pytorch3d/lib/python3.8/site-packages (from aiohttp<4.0.0,>=3.8.3->langchain) (6.0.2)\n",
      "Requirement already satisfied: frozenlist>=1.1.1 in /data/qtran/anaconda3/envs/pytorch3d/lib/python3.8/site-packages (from aiohttp<4.0.0,>=3.8.3->langchain) (1.3.0)\n",
      "Requirement already satisfied: charset-normalizer<4.0,>=2.0 in /data/qtran/anaconda3/envs/pytorch3d/lib/python3.8/site-packages (from aiohttp<4.0.0,>=3.8.3->langchain) (2.0.4)\n",
      "Requirement already satisfied: async-timeout<5.0,>=4.0.0a3 in /data/qtran/anaconda3/envs/pytorch3d/lib/python3.8/site-packages (from aiohttp<4.0.0,>=3.8.3->langchain) (4.0.2)\n",
      "Requirement already satisfied: yarl<2.0,>=1.0 in /data/qtran/anaconda3/envs/pytorch3d/lib/python3.8/site-packages (from aiohttp<4.0.0,>=3.8.3->langchain) (1.7.2)\n",
      "Requirement already satisfied: marshmallow-enum<2.0.0,>=1.5.1 in /data/qtran/anaconda3/envs/pytorch3d/lib/python3.8/site-packages (from dataclasses-json<0.6.0,>=0.5.7->langchain) (1.5.1)\n",
      "Requirement already satisfied: typing-inspect>=0.4.0 in /data/qtran/anaconda3/envs/pytorch3d/lib/python3.8/site-packages (from dataclasses-json<0.6.0,>=0.5.7->langchain) (0.8.0)\n",
      "Requirement already satisfied: marshmallow<4.0.0,>=3.3.0 in /data/qtran/anaconda3/envs/pytorch3d/lib/python3.8/site-packages (from dataclasses-json<0.6.0,>=0.5.7->langchain) (3.19.0)\n",
      "Requirement already satisfied: typing-extensions>=3.7.4.3 in /data/qtran/anaconda3/envs/pytorch3d/lib/python3.8/site-packages (from pydantic<2,>=1->langchain) (4.4.0)\n",
      "Requirement already satisfied: certifi>=2017.4.17 in /data/qtran/anaconda3/envs/pytorch3d/lib/python3.8/site-packages (from requests<3,>=2->langchain) (2022.9.24)\n",
      "Requirement already satisfied: idna<4,>=2.5 in /data/qtran/anaconda3/envs/pytorch3d/lib/python3.8/site-packages (from requests<3,>=2->langchain) (2.8)\n",
      "Requirement already satisfied: urllib3<1.27,>=1.21.1 in /data/qtran/anaconda3/envs/pytorch3d/lib/python3.8/site-packages (from requests<3,>=2->langchain) (1.26.14)\n",
      "Requirement already satisfied: greenlet!=0.4.17 in /data/qtran/anaconda3/envs/pytorch3d/lib/python3.8/site-packages (from SQLAlchemy<2,>=1->langchain) (2.0.1)\n",
      "Requirement already satisfied: packaging>=17.0 in /data/qtran/anaconda3/envs/pytorch3d/lib/python3.8/site-packages (from marshmallow<4.0.0,>=3.3.0->dataclasses-json<0.6.0,>=0.5.7->langchain) (21.3)\n",
      "Requirement already satisfied: mypy-extensions>=0.3.0 in /data/qtran/anaconda3/envs/pytorch3d/lib/python3.8/site-packages (from typing-inspect>=0.4.0->dataclasses-json<0.6.0,>=0.5.7->langchain) (0.4.3)\n",
      "Requirement already satisfied: pyparsing!=3.0.5,>=2.0.2 in /data/qtran/anaconda3/envs/pytorch3d/lib/python3.8/site-packages (from packaging>=17.0->marshmallow<4.0.0,>=3.3.0->dataclasses-json<0.6.0,>=0.5.7->langchain) (3.0.9)\n",
      "\u001b[33mWARNING: Ignoring invalid distribution -andas (/data/qtran/anaconda3/envs/pytorch3d/lib/python3.8/site-packages)\u001b[0m\u001b[33m\n",
      "\u001b[0m\u001b[33mWARNING: Ignoring invalid distribution -andas (/data/qtran/anaconda3/envs/pytorch3d/lib/python3.8/site-packages)\u001b[0m\u001b[33m\n",
      "\u001b[0m\u001b[33mWARNING: Ignoring invalid distribution -andas (/data/qtran/anaconda3/envs/pytorch3d/lib/python3.8/site-packages)\u001b[0m\u001b[33m\n",
      "\u001b[0m\u001b[33mWARNING: Ignoring invalid distribution -andas (/data/qtran/anaconda3/envs/pytorch3d/lib/python3.8/site-packages)\u001b[0m\u001b[33m\n",
      "\u001b[0m\n",
      "\u001b[1m[\u001b[0m\u001b[34;49mnotice\u001b[0m\u001b[1;39;49m]\u001b[0m\u001b[39;49m A new release of pip available: \u001b[0m\u001b[31;49m22.3.1\u001b[0m\u001b[39;49m -> \u001b[0m\u001b[32;49m23.0.1\u001b[0m\n",
      "\u001b[1m[\u001b[0m\u001b[34;49mnotice\u001b[0m\u001b[1;39;49m]\u001b[0m\u001b[39;49m To update, run: \u001b[0m\u001b[32;49mpip install --upgrade pip\u001b[0m\n",
      "\u001b[33mWARNING: Ignoring invalid distribution -andas (/data/qtran/anaconda3/envs/pytorch3d/lib/python3.8/site-packages)\u001b[0m\u001b[33m\n",
      "\u001b[0m\u001b[33mWARNING: Ignoring invalid distribution -andas (/data/qtran/anaconda3/envs/pytorch3d/lib/python3.8/site-packages)\u001b[0m\u001b[33m\n",
      "\u001b[0mRequirement already satisfied: faiss-cpu in /data/qtran/anaconda3/envs/pytorch3d/lib/python3.8/site-packages (1.7.3)\n",
      "\u001b[33mWARNING: Ignoring invalid distribution -andas (/data/qtran/anaconda3/envs/pytorch3d/lib/python3.8/site-packages)\u001b[0m\u001b[33m\n",
      "\u001b[0m\u001b[33mWARNING: Ignoring invalid distribution -andas (/data/qtran/anaconda3/envs/pytorch3d/lib/python3.8/site-packages)\u001b[0m\u001b[33m\n",
      "\u001b[0m\u001b[33mWARNING: Ignoring invalid distribution -andas (/data/qtran/anaconda3/envs/pytorch3d/lib/python3.8/site-packages)\u001b[0m\u001b[33m\n",
      "\u001b[0m\u001b[33mWARNING: Ignoring invalid distribution -andas (/data/qtran/anaconda3/envs/pytorch3d/lib/python3.8/site-packages)\u001b[0m\u001b[33m\n",
      "\u001b[0m\n",
      "\u001b[1m[\u001b[0m\u001b[34;49mnotice\u001b[0m\u001b[1;39;49m]\u001b[0m\u001b[39;49m A new release of pip available: \u001b[0m\u001b[31;49m22.3.1\u001b[0m\u001b[39;49m -> \u001b[0m\u001b[32;49m23.0.1\u001b[0m\n",
      "\u001b[1m[\u001b[0m\u001b[34;49mnotice\u001b[0m\u001b[1;39;49m]\u001b[0m\u001b[39;49m To update, run: \u001b[0m\u001b[32;49mpip install --upgrade pip\u001b[0m\n",
      "\u001b[33mWARNING: Ignoring invalid distribution -andas (/data/qtran/anaconda3/envs/pytorch3d/lib/python3.8/site-packages)\u001b[0m\u001b[33m\n",
      "\u001b[0m\u001b[33mWARNING: Ignoring invalid distribution -andas (/data/qtran/anaconda3/envs/pytorch3d/lib/python3.8/site-packages)\u001b[0m\u001b[33m\n",
      "\u001b[0mRequirement already satisfied: faiss-gpu in /data/qtran/anaconda3/envs/pytorch3d/lib/python3.8/site-packages (1.7.2)\n",
      "\u001b[33mWARNING: Ignoring invalid distribution -andas (/data/qtran/anaconda3/envs/pytorch3d/lib/python3.8/site-packages)\u001b[0m\u001b[33m\n",
      "\u001b[0m\u001b[33mWARNING: Ignoring invalid distribution -andas (/data/qtran/anaconda3/envs/pytorch3d/lib/python3.8/site-packages)\u001b[0m\u001b[33m\n",
      "\u001b[0m\u001b[33mWARNING: Ignoring invalid distribution -andas (/data/qtran/anaconda3/envs/pytorch3d/lib/python3.8/site-packages)\u001b[0m\u001b[33m\n",
      "\u001b[0m\u001b[33mWARNING: Ignoring invalid distribution -andas (/data/qtran/anaconda3/envs/pytorch3d/lib/python3.8/site-packages)\u001b[0m\u001b[33m\n",
      "\u001b[0m\n",
      "\u001b[1m[\u001b[0m\u001b[34;49mnotice\u001b[0m\u001b[1;39;49m]\u001b[0m\u001b[39;49m A new release of pip available: \u001b[0m\u001b[31;49m22.3.1\u001b[0m\u001b[39;49m -> \u001b[0m\u001b[32;49m23.0.1\u001b[0m\n",
      "\u001b[1m[\u001b[0m\u001b[34;49mnotice\u001b[0m\u001b[1;39;49m]\u001b[0m\u001b[39;49m To update, run: \u001b[0m\u001b[32;49mpip install --upgrade pip\u001b[0m\n"
     ]
    }
   ],
   "source": [
    "# ! pip install langchain\n",
    "# ! pip install faiss-cpu\n",
    "# ! pip install faiss-gpu"
   ]
  },
  {
   "cell_type": "code",
   "execution_count": 2,
   "metadata": {},
   "outputs": [
    {
     "name": "stdout",
     "output_type": "stream",
     "text": [
      "<class 'pandas.core.frame.DataFrame'>\n",
      "Index: 1246 entries, NCT00001626 to NCT05662904\n",
      "Data columns (total 20 columns):\n",
      " #   Column                Non-Null Count  Dtype \n",
      "---  ------                --------------  ----- \n",
      " 0   brief_title           1246 non-null   object\n",
      " 1   official_title        1246 non-null   object\n",
      " 2   brief_description     1246 non-null   object\n",
      " 3   detailed_description  1246 non-null   object\n",
      " 4   study_type            1246 non-null   object\n",
      " 5   population            1246 non-null   object\n",
      " 6   condition_mesh        1246 non-null   object\n",
      " 7   intervention_mesh     1246 non-null   object\n",
      " 8   keywords              1246 non-null   object\n",
      " 9   overall_status        1246 non-null   object\n",
      " 10  criteria              1246 non-null   object\n",
      " 11  gender                1246 non-null   object\n",
      " 12  minimum_age           1246 non-null   object\n",
      " 13  maximum_age           1246 non-null   object\n",
      " 14  healthy_volunteers    1246 non-null   object\n",
      " 15  locations             1246 non-null   object\n",
      " 16  phase                 1246 non-null   object\n",
      " 17  sponsors              1246 non-null   object\n",
      " 18  officials             1246 non-null   object\n",
      " 19  concat                1246 non-null   object\n",
      "dtypes: object(20)\n",
      "memory usage: 204.4+ KB\n",
      "None\n"
     ]
    }
   ],
   "source": [
    "import pandas as pd\n",
    "import numpy as np\n",
    "\n",
    "# Load your trial descriptions into a DataFrame with a column named \"concat\"\n",
    "filename = '../../data/clinicaltrials.gov/clinicaltrials_dot_gov_20230221_153151.csv'\n",
    "df = pd.read_csv(filename, index_col=\"nct_id\")\n",
    "df.replace({\"\": np.nan}, inplace=True)\n",
    "df.fillna(value=\"None\", inplace=True)\n",
    "df['concat'] = df.iloc[:, 1:].apply(lambda row: '. '.join(map(str, row)), axis=1)\n",
    "\n",
    "print(df.info())"
   ]
  },
  {
   "cell_type": "code",
   "execution_count": 6,
   "metadata": {},
   "outputs": [],
   "source": [
    "from langchain.embeddings import SelfHostedEmbeddings\n",
    "from transformers import AutoModel, AutoTokenizer, pipeline\n",
    "import runhouse as rh\n",
    "\n",
    "# def get_pipeline():\n",
    "#     model_id = \"microsoft/biogpt\"\n",
    "#     tokenizer = AutoTokenizer.from_pretrained(model_id)\n",
    "#     model = AutoModel.from_pretrained(model_id)\n",
    "#     return pipeline(\"feature-extraction\", model=model, tokenizer=tokenizer)\n",
    "\n",
    "\n",
    "# embeddings = SelfHostedEmbeddings(\n",
    "#     model_load_fn=get_pipeline,\n",
    "#     model_reqs=[\"./\", \"torch\", \"transformers\"],\n",
    "# )\n"
   ]
  },
  {
   "cell_type": "code",
   "execution_count": null,
   "metadata": {},
   "outputs": [],
   "source": [
    "! pip install runhouse"
   ]
  },
  {
   "cell_type": "code",
   "execution_count": null,
   "metadata": {},
   "outputs": [],
   "source": []
  }
 ],
 "metadata": {
  "kernelspec": {
   "display_name": "pytorch3d",
   "language": "python",
   "name": "python3"
  },
  "language_info": {
   "codemirror_mode": {
    "name": "ipython",
    "version": 3
   },
   "file_extension": ".py",
   "mimetype": "text/x-python",
   "name": "python",
   "nbconvert_exporter": "python",
   "pygments_lexer": "ipython3",
   "version": "3.8.13"
  },
  "orig_nbformat": 4,
  "vscode": {
   "interpreter": {
    "hash": "3f893498b470f27fd1a40153e64189396c8dde5539c6d3cde04ad318cba3db14"
   }
  }
 },
 "nbformat": 4,
 "nbformat_minor": 2
}
