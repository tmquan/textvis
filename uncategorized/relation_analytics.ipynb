{
 "cells": [
  {
   "cell_type": "code",
   "execution_count": 1,
   "metadata": {},
   "outputs": [],
   "source": [
    "import os\n",
    "import pandas as pd\n",
    "import networkx as nx\n",
    "import matplotlib.pyplot as plt\n",
    "\n",
    "datapath = '../data/physionet.org/mimic-iii-demo/1.4/'\n",
    "# Load CSV files into pandas dataframes\n",
    "admissions = pd.read_csv(os.path.join(datapath, 'ADMISSIONS.csv'))\n",
    "diagnoses = pd.read_csv(os.path.join(datapath, 'DIAGNOSES_ICD.csv'))\n",
    "procedures = pd.read_csv(os.path.join(datapath, 'PROCEDURES_ICD.csv'))\n",
    "patients = pd.read_csv(os.path.join(datapath, 'PATIENTS.csv'))\n"
   ]
  },
  {
   "cell_type": "code",
   "execution_count": 2,
   "metadata": {},
   "outputs": [
    {
     "name": "stdout",
     "output_type": "stream",
     "text": [
      "Index(['row_id', 'subject_id', 'hadm_id', 'admittime', 'dischtime',\n",
      "       'deathtime', 'admission_type', 'admission_location',\n",
      "       'discharge_location', 'insurance', 'language', 'religion',\n",
      "       'marital_status', 'ethnicity', 'edregtime', 'edouttime', 'diagnosis',\n",
      "       'hospital_expire_flag', 'has_chartevents_data'],\n",
      "      dtype='object')\n",
      "row_id                   int64\n",
      "subject_id               int64\n",
      "hadm_id                  int64\n",
      "admittime               object\n",
      "dischtime               object\n",
      "deathtime               object\n",
      "admission_type          object\n",
      "admission_location      object\n",
      "discharge_location      object\n",
      "insurance               object\n",
      "language                object\n",
      "religion                object\n",
      "marital_status          object\n",
      "ethnicity               object\n",
      "edregtime               object\n",
      "edouttime               object\n",
      "diagnosis               object\n",
      "hospital_expire_flag     int64\n",
      "has_chartevents_data     int64\n",
      "dtype: object\n",
      "   row_id  subject_id  hadm_id            admittime            dischtime  \\\n",
      "0   12258       10006   142345  2164-10-23 21:09:00  2164-11-01 17:15:00   \n",
      "1   12263       10011   105331  2126-08-14 22:32:00  2126-08-28 18:59:00   \n",
      "2   12265       10013   165520  2125-10-04 23:36:00  2125-10-07 15:13:00   \n",
      "3   12269       10017   199207  2149-05-26 17:19:00  2149-06-03 18:42:00   \n",
      "4   12270       10019   177759  2163-05-14 20:43:00  2163-05-15 12:00:00   \n",
      "\n",
      "             deathtime admission_type         admission_location  \\\n",
      "0                  NaN      EMERGENCY       EMERGENCY ROOM ADMIT   \n",
      "1  2126-08-28 18:59:00      EMERGENCY  TRANSFER FROM HOSP/EXTRAM   \n",
      "2  2125-10-07 15:13:00      EMERGENCY  TRANSFER FROM HOSP/EXTRAM   \n",
      "3                  NaN      EMERGENCY       EMERGENCY ROOM ADMIT   \n",
      "4  2163-05-15 12:00:00      EMERGENCY  TRANSFER FROM HOSP/EXTRAM   \n",
      "\n",
      "  discharge_location insurance language  religion marital_status  \\\n",
      "0   HOME HEALTH CARE  Medicare      NaN  CATHOLIC      SEPARATED   \n",
      "1       DEAD/EXPIRED   Private      NaN  CATHOLIC         SINGLE   \n",
      "2       DEAD/EXPIRED  Medicare      NaN  CATHOLIC            NaN   \n",
      "3                SNF  Medicare      NaN  CATHOLIC       DIVORCED   \n",
      "4       DEAD/EXPIRED  Medicare      NaN  CATHOLIC       DIVORCED   \n",
      "\n",
      "                ethnicity            edregtime            edouttime  \\\n",
      "0  BLACK/AFRICAN AMERICAN  2164-10-23 16:43:00  2164-10-23 23:00:00   \n",
      "1   UNKNOWN/NOT SPECIFIED                  NaN                  NaN   \n",
      "2   UNKNOWN/NOT SPECIFIED                  NaN                  NaN   \n",
      "3                   WHITE  2149-05-26 12:08:00  2149-05-26 19:45:00   \n",
      "4                   WHITE                  NaN                  NaN   \n",
      "\n",
      "             diagnosis  hospital_expire_flag  has_chartevents_data  \n",
      "0               SEPSIS                     0                     1  \n",
      "1          HEPATITIS B                     1                     1  \n",
      "2               SEPSIS                     1                     1  \n",
      "3     HUMERAL FRACTURE                     0                     1  \n",
      "4  ALCOHOLIC HEPATITIS                     1                     1  \n"
     ]
    }
   ],
   "source": [
    "# check the column names and data types of the admission data\n",
    "print(admissions.columns)\n",
    "print(admissions.dtypes)\n",
    "\n",
    "# check the sample data of the admission data\n",
    "print(admissions.head())\n"
   ]
  },
  {
   "cell_type": "code",
   "execution_count": 4,
   "metadata": {},
   "outputs": [],
   "source": [
    "# merge the admission data and patient data on the subject_id column\n",
    "merged_data = pd.merge(admissions, patients, on='subject_id')\n",
    "\n",
    "# merge the merged_data and diagnosis data on the subject_id and hadm_id columns\n",
    "final_data = pd.merge(merged_data, diagnoses, on=['subject_id', 'hadm_id'])\n"
   ]
  },
  {
   "cell_type": "code",
   "execution_count": 13,
   "metadata": {},
   "outputs": [
    {
     "data": {
      "image/png": "[encoded data removed]",
      "text/plain": [
       "<Figure size 432x288 with 1 Axes>"
      ]
     },
     "metadata": {
      "needs_background": "light"
     },
     "output_type": "display_data"
    }
   ],
   "source": [
    "# get descriptive statistics of the final_data dataframe\n",
    "import matplotlib.pyplot as plt\n",
    "# print(final_data.describe())\n",
    "\n",
    "# plot a scatter plot of age vs length of stay\n",
    "plt.scatter(final_data['admittime'],\n",
    "            final_data['insurance']\n",
    "            )\n",
    "plt.xlabel('Admission Time')\n",
    "plt.ylabel('Inssurance Type')\n",
    "plt.show()\n"
   ]
  },
  {
   "cell_type": "code",
   "execution_count": null,
   "metadata": {},
   "outputs": [],
   "source": []
  }
 ],
 "metadata": {
  "kernelspec": {
   "display_name": "pytorch3d",
   "language": "python",
   "name": "python3"
  },
  "language_info": {
   "codemirror_mode": {
    "name": "ipython",
    "version": 3
   },
   "file_extension": ".py",
   "mimetype": "text/x-python",
   "name": "python",
   "nbconvert_exporter": "python",
   "pygments_lexer": "ipython3",
   "version": "3.8.13"
  },
  "orig_nbformat": 4,
  "vscode": {
   "interpreter": {
    "hash": "3f893498b470f27fd1a40153e64189396c8dde5539c6d3cde04ad318cba3db14"
   }
  }
 },
 "nbformat": 4,
 "nbformat_minor": 2
}
