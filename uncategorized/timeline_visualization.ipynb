{
 "cells": [
  {
   "cell_type": "code",
   "execution_count": 11,
   "metadata": {},
   "outputs": [
    {
     "name": "stdout",
     "output_type": "stream",
     "text": [
      "<class 'pandas.core.frame.DataFrame'>\n",
      "RangeIndex: 129 entries, 0 to 128\n",
      "Data columns (total 19 columns):\n",
      " #   Column                Non-Null Count  Dtype \n",
      "---  ------                --------------  ----- \n",
      " 0   row_id                129 non-null    int64 \n",
      " 1   subject_id            129 non-null    int64 \n",
      " 2   hadm_id               129 non-null    int64 \n",
      " 3   admittime             129 non-null    object\n",
      " 4   dischtime             129 non-null    object\n",
      " 5   deathtime             40 non-null     object\n",
      " 6   admission_type        129 non-null    object\n",
      " 7   admission_location    129 non-null    object\n",
      " 8   discharge_location    129 non-null    object\n",
      " 9   insurance             129 non-null    object\n",
      " 10  language              81 non-null     object\n",
      " 11  religion              128 non-null    object\n",
      " 12  marital_status        113 non-null    object\n",
      " 13  ethnicity             129 non-null    object\n",
      " 14  edregtime             92 non-null     object\n",
      " 15  edouttime             92 non-null     object\n",
      " 16  diagnosis             129 non-null    object\n",
      " 17  hospital_expire_flag  129 non-null    int64 \n",
      " 18  has_chartevents_data  129 non-null    int64 \n",
      "dtypes: int64(5), object(14)\n",
      "memory usage: 19.3+ KB\n",
      "None\n",
      "<class 'pandas.core.frame.DataFrame'>\n",
      "RangeIndex: 1 entries, 0 to 0\n",
      "Data columns (total 4 columns):\n",
      " #   Column     Non-Null Count  Dtype         \n",
      "---  ------     --------------  -----         \n",
      " 0   start      1 non-null      datetime64[ns]\n",
      " 1   end        1 non-null      datetime64[ns]\n",
      " 2   duration   1 non-null      int64         \n",
      " 3   admission  1 non-null      int64         \n",
      "dtypes: datetime64[ns](2), int64(2)\n",
      "memory usage: 160.0 bytes\n",
      "None\n"
     ]
    },
    {
     "data": {
      "image/png": "[encoded data removed]",
      "text/plain": [
       "<Figure size 432x288 with 1 Axes>"
      ]
     },
     "metadata": {},
     "output_type": "display_data"
    }
   ],
   "source": [
    "import os\n",
    "import pandas as pd\n",
    "import seaborn as sns\n",
    "import matplotlib.pyplot as plt\n",
    "\n",
    "datapath = '../data/physionet.org/mimic-iii-demo/1.4/'\n",
    "\n",
    "# Load the MIMIC-III demo dataset\n",
    "df = pd.read_csv(os.path.join(datapath, 'ADMISSIONS.csv'))\n",
    "print(df.info())\n",
    "# Filter the dataset to include only the data for one patient\n",
    "patient_id = 10006\n",
    "patient_data = df[df['subject_id'] == patient_id]\n",
    "\n",
    "# Extract the start and end times for each admission\n",
    "start_times = list(patient_data['admittime'])\n",
    "end_times = list(patient_data['dischtime'])\n",
    "\n",
    "# Create a DataFrame with the start and end times for each admission\n",
    "data = pd.DataFrame({\n",
    "    'start': start_times,\n",
    "    'end': end_times\n",
    "})\n",
    "\n",
    "# Convert the start and end times to datetime objects\n",
    "data['start'] = pd.to_datetime(data['start'])\n",
    "data['end'] = pd.to_datetime(data['end'])\n",
    "\n",
    "# Add a column with the length of each admission in days\n",
    "data['duration'] = (data['end'] - data['start']).dt.days\n",
    "\n",
    "# Add a column with the index of each admission\n",
    "data['admission'] = range(len(data))\n",
    "\n",
    "print(data.info())\n",
    "# Create the Gantt chart using Seaborn\n",
    "sns.set_style(\"whitegrid\")\n",
    "fig = sns.barplot(x='duration', y='admission', data=data, color=\"b\")\n",
    "fig.set_xlabel(\"Length of Stay (Days)\")\n",
    "fig.set_ylabel(\"Admission\")\n",
    "fig.set_title(\"Patient #{} Admissions\".format(patient_id))\n",
    "\n",
    "# # Customize the x-axis labels to show days\n",
    "# xlabels = [str(i) + \" days\" for i in range(max(data['duration'])+1)]\n",
    "# fig.set(xticklabels=xlabels)\n",
    "\n",
    "plt.show()"
   ]
  },
  {
   "cell_type": "code",
   "execution_count": 6,
   "metadata": {},
   "outputs": [
    {
     "data": {
      "text/html": [
       "<div>\n",
       "<style scoped>\n",
       "    .dataframe tbody tr th:only-of-type {\n",
       "        vertical-align: middle;\n",
       "    }\n",
       "\n",
       "    .dataframe tbody tr th {\n",
       "        vertical-align: top;\n",
       "    }\n",
       "\n",
       "    .dataframe thead th {\n",
       "        text-align: right;\n",
       "    }\n",
       "</style>\n",
       "<table border=\"1\" class=\"dataframe\">\n",
       "  <thead>\n",
       "    <tr style=\"text-align: right;\">\n",
       "      <th></th>\n",
       "      <th>start</th>\n",
       "      <th>end</th>\n",
       "      <th>duration</th>\n",
       "      <th>admission</th>\n",
       "    </tr>\n",
       "  </thead>\n",
       "  <tbody>\n",
       "  </tbody>\n",
       "</table>\n",
       "</div>"
      ],
      "text/plain": [
       "Empty DataFrame\n",
       "Columns: [start, end, duration, admission]\n",
       "Index: []"
      ]
     },
     "execution_count": 6,
     "metadata": {},
     "output_type": "execute_result"
    }
   ],
   "source": [
    "data"
   ]
  },
  {
   "cell_type": "code",
   "execution_count": null,
   "metadata": {},
   "outputs": [],
   "source": []
  }
 ],
 "metadata": {
  "kernelspec": {
   "display_name": "textvis",
   "language": "python",
   "name": "python3"
  },
  "language_info": {
   "codemirror_mode": {
    "name": "ipython",
    "version": 3
   },
   "file_extension": ".py",
   "mimetype": "text/x-python",
   "name": "python",
   "nbconvert_exporter": "python",
   "pygments_lexer": "ipython3",
   "version": "3.9.15"
  },
  "orig_nbformat": 4,
  "vscode": {
   "interpreter": {
    "hash": "68b19445100a609c327875495b1cd4b4adbb8bdf233c0081df100a5a2b7cac33"
   }
  }
 },
 "nbformat": 4,
 "nbformat_minor": 2
}
