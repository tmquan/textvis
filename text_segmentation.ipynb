{
 "cells": [
  {
   "cell_type": "code",
   "execution_count": 1,
   "metadata": {},
   "outputs": [
    {
     "name": "stderr",
     "output_type": "stream",
     "text": [
      "/data/qtran/anaconda3/envs/textvis/lib/python3.9/site-packages/tqdm/auto.py:22: TqdmWarning: IProgress not found. Please update jupyter and ipywidgets. See https://ipywidgets.readthedocs.io/en/stable/user_install.html\n",
      "  from .autonotebook import tqdm as notebook_tqdm\n"
     ]
    }
   ],
   "source": [
    "import stanza"
   ]
  },
  {
   "cell_type": "code",
   "execution_count": 2,
   "metadata": {},
   "outputs": [
    {
     "name": "stderr",
     "output_type": "stream",
     "text": [
      "Downloading https://raw.githubusercontent.com/stanfordnlp/stanza-resources/main/resources_1.4.1.json: 193kB [00:00, 19.0MB/s]                    \n",
      "2023-03-06 17:52:25 INFO: Downloading default packages for language: en (English) ...\n",
      "2023-03-06 17:52:25 INFO: File exists: /home/qtran/stanza_resources/en/default.zip\n",
      "2023-03-06 17:52:28 INFO: Finished downloading models and saved to /home/qtran/stanza_resources.\n",
      "2023-03-06 17:52:28 INFO: Checking for updates to resources.json in case models have been updated.  Note: this behavior can be turned off with download_method=None or download_method=DownloadMethod.REUSE_RESOURCES\n",
      "Downloading https://raw.githubusercontent.com/stanfordnlp/stanza-resources/main/resources_1.4.1.json: 193kB [00:00, 16.8MB/s]                    \n",
      "2023-03-06 17:52:29 INFO: Loading these models for language: en (English):\n",
      "============================\n",
      "| Processor    | Package   |\n",
      "----------------------------\n",
      "| tokenize     | combined  |\n",
      "| pos          | combined  |\n",
      "| lemma        | combined  |\n",
      "| depparse     | combined  |\n",
      "| sentiment    | sstplus   |\n",
      "| constituency | wsj       |\n",
      "| ner          | ontonotes |\n",
      "============================\n",
      "\n",
      "2023-03-06 17:52:29 INFO: Use device: gpu\n",
      "2023-03-06 17:52:29 INFO: Loading: tokenize\n",
      "2023-03-06 17:52:31 INFO: Loading: pos\n",
      "2023-03-06 17:52:31 INFO: Loading: lemma\n",
      "2023-03-06 17:52:31 INFO: Loading: depparse\n",
      "2023-03-06 17:52:31 INFO: Loading: sentiment\n",
      "2023-03-06 17:52:31 INFO: Loading: constituency\n",
      "2023-03-06 17:52:31 INFO: Loading: ner\n",
      "2023-03-06 17:52:32 INFO: Done loading processors!\n"
     ]
    }
   ],
   "source": [
    "# Download the language model\n",
    "stanza.download('en')\n",
    "\n",
    "# Initialize the pipeline\n",
    "nlp = stanza.Pipeline('en')\n",
    "\n",
    "# Sample text\n",
    "# text = \"This is the first sentence. This is the second sentence.\\n\\nThis is a new paragraph.\"\n",
    "with open(\"data/Harry_Potter_Corpora/Harry_James_Potter.txt\", \"r\", encoding=\"utf8\") as f:\n",
    "    text = f.read()\n",
    "\n",
    "# Process the text\n",
    "doc = nlp(text)\n"
   ]
  },
  {
   "cell_type": "code",
   "execution_count": 3,
   "metadata": {},
   "outputs": [
    {
     "name": "stdout",
     "output_type": "stream",
     "text": [
      "Harry James Potter (DOB: 31 July, 1980) was a half-blood wizard, and one of the most famous wizards of modern times.\n",
      "\n",
      "\n",
      "He was the only child and son of James and Lily Potter, both members of the original Order of the Phoenix.\n",
      "\n",
      "\n",
      "Harry's birth was overshadowed by a prophecy, naming either himself or Neville Longbottom as the one with the power to vanquish Lord Voldemort.\n",
      "\n",
      "\n",
      "After half of the prophecy was reported to Voldemort, courtesy of Severus Snape, Harry was chosen as the target due to his many similarities with the Dark Lord.\n",
      "\n",
      "\n",
      "This caused the Potter family to go into hiding.\n",
      "\n",
      "\n",
      "Voldemort made his first vain attempt to circumvent the prophecy when Harry was a year and three months old.\n",
      "\n",
      "\n",
      "During this attempt he murdered Harry's parents as they tried to protect him, but this unsuccessful attempt to kill Harry led to Voldemort's first downfall.\n",
      "\n",
      "\n",
      "This downfall marked the end of the First Wizarding War, and to Harry henceforth being known as the \"Boy Who Lived\".\n",
      "\n",
      "\n",
      "One consequence of Lily’s loving sacrifice was that her orphaned son had to be raised by her only remaining blood relative, his Muggle aunt Petunia Dursley.\n",
      "\n",
      "\n",
      "While in her care he would be protected from Lord Voldemort, due to the Bond of Blood charm Albus Dumbledore placed upon him.\n",
      "\n",
      "\n",
      "This powerful charm would protect him until he became of age, or no longer called his aunt’s house home.\n",
      "\n",
      "\n",
      "Harry’s time with the Durselys was harsh, but necessary.\n",
      "\n",
      "\n",
      "As the only known survivor of the Killing Curse (up to that point), Harry was already famous before he arrived at Hogwarts School of Witchcraft and Wizardry.\n",
      "\n",
      "\n",
      "On his eleventh birthday, Harry learned that he was a wizard.\n",
      "\n",
      "\n",
      "He began attending Hogwarts in 1991 and was Sorted into Gryffindor House.\n",
      "\n",
      "\n",
      "While at school Harry became best friends with Ron Weasley and Hermione Granger.\n",
      "\n",
      "\n",
      "He later became the youngest Quidditch Seeker in over a century and eventually the captain of his house’s team, winning two Quidditch cups.\n",
      "\n",
      "\n",
      "He became even better known in his early years for protecting the Philosopher’s Stone from Voldemort, saving Ron’s sister Ginny Weasley, solving the mystery of the Chamber of Secrets, slaying Salazar Slytherin’s basilisk, and learning how to conjure a corporeal stag Patronus at the age of thirteen.\n",
      "\n",
      "\n",
      "During his fourth year, Harry’s Caligonese ancestry revealed itself when he began to have dreams of the isles, indicating he was infected with the blood of Reo that his ancestors had ingested.\n",
      "\n",
      "\n",
      "The situation escalated, and Harry’s dream visits to Caligon became far more frequent.\n",
      "\n",
      "\n",
      "Surviving the dangers of the dreamscape and becoming a target for the Church of the Imperfect, Harry became allied to a small group of other Afflicted and Unattained, and sought to prevent the Church’s goals from coming true.\n",
      "\n",
      "\n",
      "Unwittingly, by thwarting the Church’s objectives, Harry’s own consciousness ascended and was reborn as a Celestial, partially fulfilling the Church’s objective of reviving Reo.\n"
     ]
    }
   ],
   "source": [
    "# Print the paragraphs and sentences\n",
    "prev_sent_end = -1\n",
    "for sent in doc.sentences:\n",
    "    # If the sentence starts a new paragraph, print a new line\n",
    "    if sent.tokens[0].start_char > prev_sent_end + 1:\n",
    "        print(\"\\n\")\n",
    "    # Print the sentence\n",
    "    print(sent.text)\n",
    "    # Update the end index of the previous sentence\n",
    "    prev_sent_end = sent.tokens[-1].end_char - 1\n"
   ]
  },
  {
   "cell_type": "code",
   "execution_count": 10,
   "metadata": {},
   "outputs": [
    {
     "name": "stderr",
     "output_type": "stream",
     "text": [
      "Fetching 16 files: 100%|██████████| 16/16 [00:00<00:00, 164482.51it/s]\n",
      "Cannot initialize model with low cpu memory usage because `accelerate` was not found in the environment. Defaulting to `low_cpu_mem_usage=False`. It is strongly recommended to install `accelerate` for faster and less memory-intense model loading. You can do so with: \n",
      "```\n",
      "pip install accelerate\n",
      "```\n",
      ".\n",
      "100%|██████████| 51/51 [00:03<00:00, 16.63it/s]\n",
      "100%|██████████| 51/51 [00:03<00:00, 16.54it/s]\n",
      "100%|██████████| 51/51 [00:03<00:00, 16.42it/s]\n"
     ]
    }
   ],
   "source": [
    "# from stable_diffusion_videos import StableDiffusionWalkPipeline\n",
    "# import torch\n",
    "\n",
    "# pipeline = StableDiffusionWalkPipeline.from_pretrained(\n",
    "#     \"CompVis/stable-diffusion-v1-4\",\n",
    "#     torch_dtype=torch.float16,\n",
    "#     revision=\"fp16\",\n",
    "# ).to(\"cuda\")\n",
    "\n",
    "# video_path = pipeline.walk(\n",
    "#     # prompts=['a cat', 'a dog'],\n",
    "#     prompts=[sent.text for sent in doc.sentences[2:10]],\n",
    "#     seeds=[42, 1337],\n",
    "#     num_interpolation_steps=3,\n",
    "#     height=512,  # use multiples of 64 if > 512. Multiples of 8 if < 512.\n",
    "#     width=512,   # use multiples of 64 if > 512. Multiples of 8 if < 512.\n",
    "#     output_dir='dreams',        # Where images/videos will be saved\n",
    "#     # Subdirectory of output_dir where images/videos will be saved\n",
    "#     name='animals_test',\n",
    "#     # Higher adheres to prompt more, lower lets model take the wheel\n",
    "#     guidance_scale=8.5,\n",
    "#     # Number of diffusion steps per image generated. 50 is good default\n",
    "#     num_inference_steps=50,\n",
    "# )\n"
   ]
  },
  {
   "cell_type": "code",
   "execution_count": null,
   "metadata": {},
   "outputs": [],
   "source": []
  }
 ],
 "metadata": {
  "kernelspec": {
   "display_name": "textvis",
   "language": "python",
   "name": "python3"
  },
  "language_info": {
   "codemirror_mode": {
    "name": "ipython",
    "version": 3
   },
   "file_extension": ".py",
   "mimetype": "text/x-python",
   "name": "python",
   "nbconvert_exporter": "python",
   "pygments_lexer": "ipython3",
   "version": "3.9.15"
  },
  "orig_nbformat": 4,
  "vscode": {
   "interpreter": {
    "hash": "68b19445100a609c327875495b1cd4b4adbb8bdf233c0081df100a5a2b7cac33"
   }
  }
 },
 "nbformat": 4,
 "nbformat_minor": 2
}
